{
 "cells": [
  {
   "cell_type": "code",
   "execution_count": 23,
   "id": "98f67ed9",
   "metadata": {},
   "outputs": [],
   "source": [
    "import pandas as pd\n",
    "import numpy as np\n",
    "import matplotlib.pyplot as plt"
   ]
  },
  {
   "cell_type": "markdown",
   "id": "443542f3",
   "metadata": {},
   "source": [
    "Import position data for Matlab "
   ]
  },
  {
   "cell_type": "code",
   "execution_count": 36,
   "id": "6d46ed78",
   "metadata": {},
   "outputs": [],
   "source": [
    "matlab_data_p = pd.read_csv(\"jitter_get_P.csv\",header=None)\n",
    "matlab_data_pv = pd.read_csv(\"jitter_get_PV.csv\",header=None)\n",
    "matlab_data_p.columns = [\"pos\"]\n",
    "matlab_data_pv.columns = [\"pos/vel\"]"
   ]
  },
  {
   "cell_type": "code",
   "execution_count": 43,
   "id": "ccc55103",
   "metadata": {},
   "outputs": [
    {
     "data": {
      "text/plain": [
       "[         pos\n",
       " 0   0.413710\n",
       " 1   0.000898\n",
       " 2   0.000643\n",
       " 3   0.000614\n",
       " 4   0.000522\n",
       " ..       ...\n",
       " 94  0.000465\n",
       " 95  0.000488\n",
       " 96  0.000467\n",
       " 97  0.000503\n",
       " 98  0.000511\n",
       " \n",
       " [99 rows x 1 columns],\n",
       "      pos/vel\n",
       " 0   0.413705\n",
       " 1   0.001416\n",
       " 2   0.001161\n",
       " 3   0.001139\n",
       " 4   0.001104\n",
       " ..       ...\n",
       " 94  0.000773\n",
       " 95  0.000926\n",
       " 96  0.000997\n",
       " 97  0.001007\n",
       " 98  0.001051\n",
       " \n",
       " [99 rows x 1 columns]]"
      ]
     },
     "execution_count": 43,
     "metadata": {},
     "output_type": "execute_result"
    }
   ],
   "source": [
    "[(matlab_data_p), (matlab_data_pv)]"
   ]
  },
  {
   "cell_type": "code",
   "execution_count": null,
   "id": "f5b11da5",
   "metadata": {},
   "outputs": [],
   "source": []
  }
 ],
 "metadata": {
  "kernelspec": {
   "display_name": "Python 3 (ipykernel)",
   "language": "python",
   "name": "python3"
  },
  "language_info": {
   "codemirror_mode": {
    "name": "ipython",
    "version": 3
   },
   "file_extension": ".py",
   "mimetype": "text/x-python",
   "name": "python",
   "nbconvert_exporter": "python",
   "pygments_lexer": "ipython3",
   "version": "3.9.13"
  }
 },
 "nbformat": 4,
 "nbformat_minor": 5
}
