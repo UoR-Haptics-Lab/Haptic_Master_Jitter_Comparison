{
 "cells": [
  {
   "cell_type": "code",
   "execution_count": 2,
   "id": "98f67ed9",
   "metadata": {},
   "outputs": [],
   "source": [
    "import pandas as pd\n",
    "import numpy as np\n",
    "import matplotlib.pyplot as plt"
   ]
  },
  {
   "cell_type": "markdown",
   "id": "443542f3",
   "metadata": {},
   "source": [
    "Import position data for Matlab "
   ]
  },
  {
   "cell_type": "code",
   "execution_count": 3,
   "id": "6d46ed78",
   "metadata": {},
   "outputs": [],
   "source": [
    "matlab_data_p = pd.read_csv(\"jitter_get_P.csv\",header=None)\n",
    "matlab_data_pv = pd.read_csv(\"jitter_get_PV.csv\",header=None)\n",
    "matlab_data_p.columns = [\"pos\"]\n",
    "matlab_data_pv.columns = [\"pos/vel\"]"
   ]
  },
  {
   "cell_type": "code",
   "execution_count": 4,
   "id": "ccc55103",
   "metadata": {},
   "outputs": [],
   "source": [
    "data = [(matlab_data_p), (matlab_data_pv)]"
   ]
  },
  {
   "cell_type": "code",
   "execution_count": null,
   "id": "05668755",
   "metadata": {},
   "outputs": [],
   "source": []
  },
  {
   "cell_type": "code",
   "execution_count": null,
   "id": "f5b11da5",
   "metadata": {},
   "outputs": [],
   "source": []
  }
 ],
 "metadata": {
  "kernelspec": {
   "display_name": "Python 3 (ipykernel)",
   "language": "python",
   "name": "python3"
  },
  "language_info": {
   "codemirror_mode": {
    "name": "ipython",
    "version": 3
   },
   "file_extension": ".py",
   "mimetype": "text/x-python",
   "name": "python",
   "nbconvert_exporter": "python",
   "pygments_lexer": "ipython3",
   "version": "3.9.13"
  }
 },
 "nbformat": 4,
 "nbformat_minor": 5
}
